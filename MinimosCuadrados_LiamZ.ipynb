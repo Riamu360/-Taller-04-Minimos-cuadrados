{
 "cells": [
  {
   "cell_type": "markdown",
   "metadata": {},
   "source": [
    "# **Escuela Politécnica Nacional**  \n",
    "## **Nombre:** Liam Zúñiga  \n",
    "## **Fecha:** 2024-12-14"
   ]
  },
  {
   "cell_type": "markdown",
   "metadata": {},
   "source": [
    "# **[Taller 04] Mínimos cuadrados**"
   ]
  },
  {
   "cell_type": "code",
   "execution_count": 20,
   "metadata": {},
   "outputs": [],
   "source": [
    "p1 = (5.4, 3.2)\n",
    "p2_i = (8.7, 0)\n",
    "p3 = (12.3, -3.6)"
   ]
  },
  {
   "cell_type": "code",
   "execution_count": 25,
   "metadata": {},
   "outputs": [
    {
     "data": {
      "application/vnd.jupyter.widget-view+json": {
       "model_id": "c52778b23a604768acce4156ba549378",
       "version_major": 2,
       "version_minor": 0
      },
      "text/plain": [
       "interactive(children=(FloatSlider(value=8.7, description='p2_x', max=12.3, min=5.5), FloatSlider(value=0.0, de…"
      ]
     },
     "metadata": {},
     "output_type": "display_data"
    }
   ],
   "source": [
    "from ipywidgets import interact, widgets\n",
    "import numpy as np\n",
    "import matplotlib.pyplot as plt\n",
    "\n",
    "\n",
    "def update_plot(p2_x, p2_y):\n",
    "    # Actualiza coordenadas\n",
    "    x_coords = np.array([p1[0], p2_x, p3[0]])\n",
    "    y_coords = np.array([p1[1], p2_y, p3[1]])\n",
    "    \n",
    "    # Calcula mínimos cuadrados (m, b)\n",
    "    A = np.vstack([x_coords, np.ones(len(x_coords))]).T\n",
    "    m, b = np.linalg.lstsq(A, y_coords, rcond=None)[0]\n",
    "    \n",
    "    # Dibuja gráfico\n",
    "    plt.figure(figsize=(8, 5))  # Más pequeño y manejable\n",
    "    plt.scatter(x_coords, y_coords, color=\"red\")  # Puntos\n",
    "    plt.plot(x_coords, m * x_coords + b, color=\"blue\")  # Línea de ajuste\n",
    "    \n",
    "    plt.xlabel(\"X\")\n",
    "    plt.ylabel(\"Y\")\n",
    "    plt.title(\"Least Squares Line\")\n",
    "    plt.grid(True)\n",
    "    plt.tight_layout()\n",
    "    plt.show()\n",
    "\n",
    "# Configura sliders\n",
    "p2_x_slider = widgets.FloatSlider(value=p2_i[0], min=5.5, max=12.3, step=0.1, description=\"p2_x\")\n",
    "p2_y_slider = widgets.FloatSlider(value=p2_i[1], min=-10.0, max=10.0, step=0.1, description=\"p2_y\")\n",
    "\n",
    "# Interact simplificado\n",
    "_ = interact(update_plot, p2_x=p2_x_slider, p2_y=p2_y_slider)\n"
   ]
  },
  {
   "cell_type": "markdown",
   "metadata": {},
   "source": [
    "### Link de GitHub:"
   ]
  },
  {
   "cell_type": "markdown",
   "metadata": {},
   "source": [
    "https://github.com/Riamu360/-Taller-04-Minimos-cuadrados"
   ]
  }
 ],
 "metadata": {
  "kernelspec": {
   "display_name": "Python 3",
   "language": "python",
   "name": "python3"
  },
  "language_info": {
   "codemirror_mode": {
    "name": "ipython",
    "version": 3
   },
   "file_extension": ".py",
   "mimetype": "text/x-python",
   "name": "python",
   "nbconvert_exporter": "python",
   "pygments_lexer": "ipython3",
   "version": "3.13.0"
  }
 },
 "nbformat": 4,
 "nbformat_minor": 2
}
