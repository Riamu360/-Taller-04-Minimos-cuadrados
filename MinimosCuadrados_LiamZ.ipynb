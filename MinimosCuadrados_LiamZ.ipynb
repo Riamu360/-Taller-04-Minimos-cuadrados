{
 "cells": [
  {
   "cell_type": "code",
   "execution_count": 20,
   "metadata": {},
   "outputs": [],
   "source": [
    "p1 = (5.4, 3.2)\n",
    "p2_i = (8.7, 0)\n",
    "p3 = (12.3, -3.6)"
   ]
  },
  {
   "cell_type": "code",
   "execution_count": 21,
   "metadata": {},
   "outputs": [
    {
     "data": {
      "application/vnd.jupyter.widget-view+json": {
       "model_id": "ee7ff3a572ba427589dd940211f85150",
       "version_major": 2,
       "version_minor": 0
      },
      "text/plain": [
       "interactive(children=(FloatSlider(value=8.7, description='p2_x', max=12.3, min=5.5), FloatSlider(value=0.0, de…"
      ]
     },
     "metadata": {},
     "output_type": "display_data"
    }
   ],
   "source": [
    "from ipywidgets import interact, widgets\n",
    "import numpy as np\n",
    "import matplotlib.pyplot as plt\n",
    "\n",
    "\n",
    "def update_plot(p2_x, p2_y):\n",
    "    # Update coordinates dynamically\n",
    "    x_coords = np.array([p1[0], p2_x, p3[0]])\n",
    "    y_coords = np.array([p1[1], p2_y, p3[1]])\n",
    "    \n",
    "    # Calculate slope (m) and intercept (b) using least squares\n",
    "    A = np.vstack([x_coords, np.ones(len(x_coords))]).T\n",
    "    m, b = np.linalg.lstsq(A, y_coords, rcond=None)[0]\n",
    "    \n",
    "    # Plot points and line\n",
    "    plt.figure(figsize=(10, 6))\n",
    "    plt.scatter(x_coords, y_coords, color=\"red\", label=\"Points\")\n",
    "    \n",
    "    x_line = np.linspace(min(x_coords), max(x_coords), 100)\n",
    "    y_line = m * x_line + b\n",
    "    plt.plot(x_line, y_line, color=\"blue\", label=f\"Line: y = {m:.2f}x + {b:.2f}\")\n",
    "    \n",
    "    plt.xlabel(\"X\")\n",
    "    plt.ylabel(\"Y\")\n",
    "    plt.title(\"Points and Line Plot (Least Squares)\")\n",
    "    plt.legend()\n",
    "    plt.grid(True)\n",
    "    plt.show()\n",
    "\n",
    "# Configurar sliders con valores iniciales explícitos\n",
    "p2_x_slider = widgets.FloatSlider(value=p2_i[0], min=5.5, max=12.3, step=0.1, description=\"p2_x\")\n",
    "p2_y_slider = widgets.FloatSlider(value=p2_i[1], min=-10.0, max=10.0, step=0.1, description=\"p2_y\")\n",
    "\n",
    "# Usar interact con sliders personalizados\n",
    "_ = interact(update_plot, p2_x=p2_x_slider, p2_y=p2_y_slider)\n"
   ]
  },
  {
   "cell_type": "markdown",
   "metadata": {},
   "source": [
    "### Link de GitHub:"
   ]
  },
  {
   "cell_type": "markdown",
   "metadata": {},
   "source": [
    "https://github.com/Riamu360/-Taller-04-Minimos-cuadrados"
   ]
  }
 ],
 "metadata": {
  "kernelspec": {
   "display_name": "Python 3",
   "language": "python",
   "name": "python3"
  },
  "language_info": {
   "codemirror_mode": {
    "name": "ipython",
    "version": 3
   },
   "file_extension": ".py",
   "mimetype": "text/x-python",
   "name": "python",
   "nbconvert_exporter": "python",
   "pygments_lexer": "ipython3",
   "version": "3.13.0"
  }
 },
 "nbformat": 4,
 "nbformat_minor": 2
}
